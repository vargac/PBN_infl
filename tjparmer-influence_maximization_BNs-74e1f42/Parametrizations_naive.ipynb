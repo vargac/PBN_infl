{
 "cells": [
  {
   "cell_type": "code",
   "execution_count": 1,
   "metadata": {},
   "outputs": [],
   "source": [
    "import time\n",
    "import matplotlib.pyplot as plt\n",
    "import numpy as np\n",
    "\n",
    "from cana.boolean_node import *\n",
    "from cana.boolean_network import *\n",
    "\n",
    "from utils import *\n",
    "from modules import *\n",
    "from mean_field_computations import *\n",
    "from brute_force_computations import *\n",
    "from simulations import *\n",
    "from entropy_computations import *\n",
    "from driver_sets import *"
   ]
  },
  {
   "cell_type": "code",
   "execution_count": 2,
   "metadata": {},
   "outputs": [],
   "source": [
    "N=BooleanNetwork.from_file('../models/CORTICAL-AREA-DEVELOPMENT.cana',file_type='logical')"
   ]
  },
  {
   "cell_type": "code",
   "execution_count": 37,
   "metadata": {},
   "outputs": [
    {
     "name": "stdout",
     "output_type": "stream",
     "text": [
      "<BNetwork(Name='', N=5, Nodes=['v_Coup_fti', 'v_Emx2', 'v_Fgf8', 'v_Pax6', 'v_Sp8'])>\n",
      "<BNode(name='v_Coup_fti', k=2, inputs=[v_Fgf8,v_Sp8], state=0, outputs='[1,0,0,0]' constant=False)>\n",
      "<BNode(name='v_Emx2', k=4, inputs=[v_Coup_fti,v_Fgf8,v_Pax6,v_Sp8], state=0, outputs='[0,0,0,0...0,0,0,0]' constant=False)>\n",
      "<BNode(name='v_Fgf8', k=3, inputs=[v_Emx2,v_Fgf8,v_Sp8], state=0, outputs='[0,0,0,1,0,0,0,0]' constant=False)>\n",
      "<BNode(name='v_Pax6', k=3, inputs=[v_Coup_fti,v_Emx2,v_Sp8], state=0, outputs='[0,1,0,0,0,0,0,0]' constant=False)>\n",
      "<BNode(name='v_Sp8', k=2, inputs=[v_Emx2,v_Fgf8], state=0, outputs='[0,1,0,0]' constant=False)>\n"
     ]
    }
   ],
   "source": [
    "print N\n",
    "for n in N.nodes:\n",
    "    print n"
   ]
  },
  {
   "cell_type": "code",
   "execution_count": 41,
   "metadata": {},
   "outputs": [
    {
     "name": "stdout",
     "output_type": "stream",
     "text": [
      "before <BNode(name='v_Sp8', k=2, inputs=[v_Emx2,v_Fgf8], state=0, outputs='[0,1,0,0]' constant=False)>\n",
      "after <BNode(name='v_Sp8', k=2, inputs=[v_Emx2,v_Fgf8], state=0, outputs='[1,1,0,1]' constant=False)>\n"
     ]
    }
   ],
   "source": [
    "N_v2 = N\n",
    "print 'before', N_v2.nodes[4]\n",
    "N_v2.nodes[4].outputs = [1, 1, 0, 1] # change & to |\n",
    "print 'after', N_v2.nodes[4]"
   ]
  },
  {
   "cell_type": "code",
   "execution_count": 42,
   "metadata": {},
   "outputs": [],
   "source": [
    "dd={node.name: LUT_reduce(look_up_table(node)) for node in N.nodes}\n",
    "sunits,sunit_map=get_sunits(N)\n",
    "rsunit_map = reverse_sunit_map(sunit_map)\n",
    "\n",
    "dd_v2={node.name: LUT_reduce(look_up_table(node)) for node in N_v2.nodes}\n",
    "sunits_v2,sunit_map_v2=get_sunits(N_v2)\n",
    "rsunit_map_v2 = reverse_sunit_map(sunit_map_v2)"
   ]
  },
  {
   "cell_type": "code",
   "execution_count": 4,
   "metadata": {},
   "outputs": [],
   "source": [
    "def run_IBMFA(N, iterations, update, act_nodes=set(), inh_nodes=set()):\n",
    "    assert update in 'AS'\n",
    "    act_prob = {i: {node.name: (1 if node.name in act_nodes else 0 if node.name in inh_nodes else 0.5)\n",
    "                    for node in N.nodes}\n",
    "                for i in range(iterations+1)}\n",
    "    if update == 'S':\n",
    "        synchronous_mf(N,act_nodes=act_nodes | inh_nodes,act_prob=act_prob,iterations=iterations,pinning=set(),\n",
    "                       reduced=True,ds=dd,pin_start=True)\n",
    "    else:\n",
    "        asynchronous_mf(N,act_nodes=act_nodes | inh_nodes,act_prob=act_prob,iterations=iterations,pinning=set(),\n",
    "                        reduced=True,ds=dd,pin_start=True,order=None,regenerate=False,oh=False)\n",
    "    return act_prob"
   ]
  },
  {
   "cell_type": "code",
   "execution_count": 5,
   "metadata": {},
   "outputs": [],
   "source": [
    "def plot_IBMFA(probs):\n",
    "    for node in N.nodes:\n",
    "        plt.plot(range(len(probs)), [probs[i][node.name] for i in range(len(probs))], label=node.name)\n",
    "    plt.legend(bbox_to_anchor=(1.0, 0.95), fontsize=14)\n",
    "    plt.show()"
   ]
  },
  {
   "cell_type": "code",
   "execution_count": 16,
   "metadata": {
    "scrolled": true
   },
   "outputs": [
    {
     "data": {
      "image/png": "[encoded data removed]",
      "text/plain": [
       "<Figure size 432x288 with 1 Axes>"
      ]
     },
     "metadata": {
      "needs_background": "light"
     },
     "output_type": "display_data"
    },
    {
     "data": {
      "text/plain": [
       "{0: {'v_Coup_fti': 0.5,\n",
       "  'v_Emx2': 0.5,\n",
       "  'v_Fgf8': 0.5,\n",
       "  'v_Pax6': 0.5,\n",
       "  'v_Sp8': 0.5},\n",
       " 1: {'v_Coup_fti': 0.25,\n",
       "  'v_Emx2': 0.0625,\n",
       "  'v_Fgf8': 0.125,\n",
       "  'v_Pax6': 0.125,\n",
       "  'v_Sp8': 0.25},\n",
       " 2: {'v_Coup_fti': 0.65625,\n",
       "  'v_Emx2': 0.1435546875,\n",
       "  'v_Fgf8': 0.029296875,\n",
       "  'v_Pax6': 0.17578125,\n",
       "  'v_Sp8': 0.1171875},\n",
       " 3: {'v_Coup_fti': 0.8569488525390625,\n",
       "  'v_Emx2': 0.4635181110352278,\n",
       "  'v_Fgf8': 0.0029403716325759888,\n",
       "  'v_Pax6': 0.0345003604888916,\n",
       "  'v_Sp8': 0.025091171264648438},\n",
       " 4: {'v_Coup_fti': 0.9720422344709903,\n",
       "  'v_Emx2': 0.8042520056936024,\n",
       "  'v_Fgf8': 3.958022186266003e-05,\n",
       "  'v_Pax6': 0.001925605624637204,\n",
       "  'v_Sp8': 0.0015774561277027976},\n",
       " 5: {'v_Coup_fti': 0.9983830260864981,\n",
       "  'v_Emx2': 0.9686017241441988,\n",
       "  'v_Fgf8': 1.222173420507408e-08,\n",
       "  'v_Pax6': 8.632907123385583e-06,\n",
       "  'v_Sp8': 7.747749043817927e-06},\n",
       " 6: {'v_Coup_fti': 0.9999922400293167,\n",
       "  'v_Emx2': 0.99836665978243,\n",
       "  'v_Fgf8': 2.9731319255196352e-15,\n",
       "  'v_Pax6': 3.9335471417542615e-10,\n",
       "  'v_Sp8': 3.837413820071976e-10},\n",
       " 7: {'v_Coup_fti': 0.9999999996162556,\n",
       "  'v_Emx2': 0.9999922392522237,\n",
       "  'v_Fgf8': 1.8635003191683876e-27,\n",
       "  'v_Pax6': 4.8637962280971315e-18,\n",
       "  'v_Sp8': 4.856135946092556e-18},\n",
       " 8: {'v_Coup_fti': 1.0,\n",
       "  'v_Emx2': 0.9999999996162556,\n",
       "  'v_Fgf8': 7.023019540630332e-50,\n",
       "  'v_Pax6': 1.4462268552816977e-32,\n",
       "  'v_Sp8': 1.4462155958136506e-32},\n",
       " 9: {'v_Coup_fti': 1.0,\n",
       "  'v_Emx2': 1.0,\n",
       "  'v_Fgf8': 3.8976149627135146e-91,\n",
       "  'v_Pax6': 0.0,\n",
       "  'v_Sp8': 2.6950442064073376e-59},\n",
       " 10: {'v_Coup_fti': 1.0,\n",
       "  'v_Emx2': 1.0,\n",
       "  'v_Fgf8': 0.0,\n",
       "  'v_Pax6': 0.0,\n",
       "  'v_Sp8': 0.0}}"
      ]
     },
     "execution_count": 16,
     "metadata": {},
     "output_type": "execute_result"
    }
   ],
   "source": [
    "probs = run_IBMFA(N, 10, 'S')\n",
    "plot_IBMFA(probs)\n",
    "probs"
   ]
  },
  {
   "cell_type": "code",
   "execution_count": 43,
   "metadata": {
    "scrolled": true
   },
   "outputs": [
    {
     "data": {
      "image/png": "[encoded data removed]",
      "text/plain": [
       "<Figure size 432x288 with 1 Axes>"
      ]
     },
     "metadata": {
      "needs_background": "light"
     },
     "output_type": "display_data"
    },
    {
     "data": {
      "text/plain": [
       "{0: {'v_Coup_fti': 0.5,\n",
       "  'v_Emx2': 0.5,\n",
       "  'v_Fgf8': 0.5,\n",
       "  'v_Pax6': 0.5,\n",
       "  'v_Sp8': 0.5},\n",
       " 1: {'v_Coup_fti': 0.25,\n",
       "  'v_Emx2': 0.0625,\n",
       "  'v_Fgf8': 0.125,\n",
       "  'v_Pax6': 0.125,\n",
       "  'v_Sp8': 0.75},\n",
       " 2: {'v_Coup_fti': 0.21875,\n",
       "  'v_Emx2': 0.0478515625,\n",
       "  'v_Fgf8': 0.087890625,\n",
       "  'v_Pax6': 0.52734375,\n",
       "  'v_Sp8': 0.9453125},\n",
       " 3: {'v_Coup_fti': 0.0498809814453125,\n",
       "  'v_Emx2': 0.005157371982932091,\n",
       "  'v_Fgf8': 0.07910840213298798,\n",
       "  'v_Pax6': 0.7031857967376709,\n",
       "  'v_Sp8': 0.9563541412353516},\n",
       " 4: {'v_Coup_fti': 0.04019310461805503,\n",
       "  'v_Emx2': 0.0005950743386025588,\n",
       "  'v_Fgf8': 0.07526546366711896,\n",
       "  'v_Pax6': 0.9039640106780341,\n",
       "  'v_Sp8': 0.9952506194738431},\n",
       " 5: {'v_Coup_fti': 0.004391916198724135,\n",
       "  'v_Emx2': 1.695272874187247e-05,\n",
       "  'v_Fgf8': 0.07486342351152307,\n",
       "  'v_Pax6': 0.9546799633900287,\n",
       "  'v_Sp8': 0.9994497142074088},\n",
       " 6: {'v_Coup_fti': 0.0005090895142480696,\n",
       "  'v_Emx2': 1.0133009476060111e-07,\n",
       "  'v_Fgf8': 0.0748209587922578,\n",
       "  'v_Pax6': 0.9950433458318674,\n",
       "  'v_Sp8': 0.9999843164105696},\n",
       " 7: {'v_Coup_fti': 1.4510128231896652e-05,\n",
       "  'v_Emx2': 3.661457699439531e-11,\n",
       "  'v_Fgf8': 0.07481977774956336,\n",
       "  'v_Pax6': 0.9994751336037522,\n",
       "  'v_Sp8': 0.9999999062515201},\n",
       " 8: {'v_Coup_fti': 8.673423943990137e-08,\n",
       "  'v_Emx2': 6.605574479400187e-16,\n",
       "  'v_Fgf8': 0.07481977073258343,\n",
       "  'v_Pax6': 0.9999853960880345,\n",
       "  'v_Sp8': 0.9999999999661249},\n",
       " 9: {'v_Coup_fti': 3.1340595846759874e-11,\n",
       "  'v_Emx2': 3.9697853974254103e-23,\n",
       "  'v_Fgf8': 0.07481977073004885,\n",
       "  'v_Pax6': 0.9999999132318848,\n",
       "  'v_Sp8': 0.9999999999999993},\n",
       " 10: {'v_Coup_fti': 6.162938354780886e-16,\n",
       "  'v_Emx2': 1.6759275360959275e-33,\n",
       "  'v_Fgf8': 0.07481977073004879,\n",
       "  'v_Pax6': 0.9999999999686587,\n",
       "  'v_Sp8': 1.0}}"
      ]
     },
     "execution_count": 43,
     "metadata": {},
     "output_type": "execute_result"
    }
   ],
   "source": [
    "probs = run_IBMFA(N_v2, 10, 'S')\n",
    "plot_IBMFA(probs)\n",
    "probs"
   ]
  },
  {
   "cell_type": "code",
   "execution_count": 8,
   "metadata": {},
   "outputs": [
    {
     "data": {
      "text/plain": [
       "{'00111': {'v_Coup_fti-0', 'v_Emx2-0', 'v_Fgf8-1', 'v_Pax6-1', 'v_Sp8-1'},\n",
       " '11000': {'v_Coup_fti-1', 'v_Emx2-1', 'v_Fgf8-0', 'v_Pax6-0', 'v_Sp8-0'}}"
      ]
     },
     "execution_count": 8,
     "metadata": {},
     "output_type": "execute_result"
    }
   ],
   "source": [
    "attractors = attractors_to_dict(N)\n",
    "attractors"
   ]
  },
  {
   "cell_type": "code",
   "execution_count": 45,
   "metadata": {},
   "outputs": [
    {
     "data": {
      "text/plain": [
       "{'00111': {'v_Coup_fti-0', 'v_Emx2-0', 'v_Fgf8-1', 'v_Pax6-1', 'v_Sp8-1'},\n",
       " '11000': {'v_Coup_fti-1', 'v_Emx2-1', 'v_Fgf8-0', 'v_Pax6-0', 'v_Sp8-0'}}"
      ]
     },
     "execution_count": 45,
     "metadata": {},
     "output_type": "execute_result"
    }
   ],
   "source": [
    "attractors_v2 = attractors_to_dict(N_v2)\n",
    "attractors_v2"
   ]
  },
  {
   "cell_type": "code",
   "execution_count": 20,
   "metadata": {},
   "outputs": [],
   "source": [
    "def driver_to_attractor(N, sunits, sunit_map, dd, attractor, attractors, iterations=10):\n",
    "    start_time = time.time()\n",
    "\n",
    "    modules,translator=find_modules(N,1,sunits,sunit_map,modules={},translator={},\n",
    "                    seeds=None, reduced=True,ds=dd,\n",
    "                    pinning={},iterations=iterations,data=True,pin_start=True,\n",
    "                    update='synchronous',regenerate=False,models=1)\n",
    "\n",
    "    selections, entropies=top_selection(N,sunits,sunit_map,modules,translator,seeds=None,max_s=10,\n",
    "                                        top=1,reduced=True,ds=dd,iterations=iterations,t=iterations,\n",
    "                                        attractor=attractor,attractors=attractors,\n",
    "                                        force=False,pin_start=True,update='synchronous',regenerate=False,\n",
    "                                        drivers=True)\n",
    "\n",
    "    for seed in selections:\n",
    "        print(seed, entropies[seed], to_list(seed,sunit_map,translator))\n",
    "\n",
    "    driver = reduce_selection(selections[-1],N,sunits,sunit_map,modules,translator,reduced=True,ds=dd,\n",
    "                              t=iterations) #reduce the final selection\n",
    "\n",
    "    print driver\n",
    "    print \"--- Total time: %s seconds ---\" % (time.time() - start_time)"
   ]
  },
  {
   "cell_type": "code",
   "execution_count": 27,
   "metadata": {},
   "outputs": [
    {
     "name": "stdout",
     "output_type": "stream",
     "text": [
      "seeds: 10\n",
      "('()', 0.04379628085291985, [])\n",
      "('(5,)', 0.0, ['v_Fgf8-1'])\n",
      "(5,)\n",
      "--- Total time: 0.246594905853 seconds ---\n"
     ]
    }
   ],
   "source": [
    "driver_to_attractor(N, sunits, sunit_map, dd, '00111', attractors, iterations=5)"
   ]
  },
  {
   "cell_type": "code",
   "execution_count": 46,
   "metadata": {},
   "outputs": [
    {
     "name": "stdout",
     "output_type": "stream",
     "text": [
      "seeds: 10\n",
      "('()', 0.13955006324260735, [])\n",
      "('(5,)', 0.0, ['v_Fgf8-1'])\n",
      "(5,)\n",
      "--- Total time: 0.277548074722 seconds ---\n"
     ]
    }
   ],
   "source": [
    "driver_to_attractor(N_v2, sunits_v2, sunit_map_v2, dd_v2, '00111', attractors_v2, iterations=5)"
   ]
  },
  {
   "cell_type": "code",
   "execution_count": 26,
   "metadata": {},
   "outputs": [
    {
     "name": "stdout",
     "output_type": "stream",
     "text": [
      "seeds: 10\n",
      "('()', 0.04379628085291985, [])\n",
      "('(8,)', 0.0, ['v_Sp8-0'])\n",
      "(8,)\n",
      "--- Total time: 0.272583007812 seconds ---\n"
     ]
    }
   ],
   "source": [
    "driver_to_attractor(N, sunits, sunit_map, dd, None, None, iterations=5)"
   ]
  },
  {
   "cell_type": "code",
   "execution_count": 47,
   "metadata": {},
   "outputs": [
    {
     "name": "stdout",
     "output_type": "stream",
     "text": [
      "seeds: 10\n",
      "('()', 0.13955006324260735, [])\n",
      "('(8,)', 0.0, ['v_Sp8-0'])\n",
      "(8,)\n",
      "--- Total time: 0.248186826706 seconds ---\n"
     ]
    }
   ],
   "source": [
    "driver_to_attractor(N_v2, sunits_v2, sunit_map_v2, dd_v2, None, None, iterations=5)"
   ]
  },
  {
   "cell_type": "code",
   "execution_count": null,
   "metadata": {},
   "outputs": [],
   "source": []
  }
 ],
 "metadata": {
  "kernelspec": {
   "display_name": "Python 2",
   "language": "python",
   "name": "python2"
  },
  "language_info": {
   "codemirror_mode": {
    "name": "ipython",
    "version": 2
   },
   "file_extension": ".py",
   "mimetype": "text/x-python",
   "name": "python",
   "nbconvert_exporter": "python",
   "pygments_lexer": "ipython2",
   "version": "2.7.18"
  }
 },
 "nbformat": 4,
 "nbformat_minor": 2
}
