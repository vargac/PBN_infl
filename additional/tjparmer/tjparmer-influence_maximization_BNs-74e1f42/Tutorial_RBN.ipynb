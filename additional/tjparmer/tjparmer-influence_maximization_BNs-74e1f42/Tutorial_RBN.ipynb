{
 "cells": [
  {
   "cell_type": "markdown",
   "metadata": {},
   "source": [
    "## Tutorial - Influence Maximization in Boolean Networks - Random Boolean Networks"
   ]
  },
  {
   "cell_type": "code",
   "execution_count": 1,
   "metadata": {},
   "outputs": [],
   "source": [
    "#matplotlib\n",
    "%load_ext autoreload\n",
    "%autoreload 2\n",
    "%matplotlib inline"
   ]
  },
  {
   "cell_type": "code",
   "execution_count": 2,
   "metadata": {},
   "outputs": [],
   "source": [
    "#import basic modules\n",
    "import networkx as nx\n",
    "import time\n",
    "import matplotlib.pyplot as plt"
   ]
  },
  {
   "cell_type": "code",
   "execution_count": 3,
   "metadata": {},
   "outputs": [],
   "source": [
    "#import scripts\n",
    "from RBN_computations import *"
   ]
  },
  {
   "cell_type": "markdown",
   "metadata": {},
   "source": [
    "#### Run mean-field approximation (IBMFA)"
   ]
  },
  {
   "cell_type": "code",
   "execution_count": 4,
   "metadata": {},
   "outputs": [
    {
     "name": "stdout",
     "output_type": "stream",
     "text": [
      "(20, 0.2222222222222222)\n"
     ]
    }
   ],
   "source": [
    "#generate random or erdos-renyi graph\n",
    "#n=number of nodes, p=probability for edge creation = 2kn/(n**2-n)\n",
    "k=2.0 #average k\n",
    "n=10\n",
    "p=2*k*n/(n**2-n)/2\n",
    "#N = nx.erdos_renyi_graph(n, p, directed=False)\n",
    "if k==1 or k==2:\n",
    "    N = nx.cycle_graph(n).to_directed() #directed ring structure, ensures one connected component\n",
    "else:\n",
    "    N = nx.random_regular_graph(int(k),n) #NOTE: this is undirected and isn't guaranteed to be connected but should be for k>2\n",
    "print(len(N.edges()),p)"
   ]
  },
  {
   "cell_type": "code",
   "execution_count": 5,
   "metadata": {},
   "outputs": [
    {
     "name": "stdout",
     "output_type": "stream",
     "text": [
      "20\n"
     ]
    }
   ],
   "source": [
    "#remove excess edges from a directed graph (for k=1 ring structure)\n",
    "if k==1:\n",
    "    N.remove_edge(0,99)\n",
    "    for node in N:\n",
    "        if (node,node-1) in N.edges(): N.remove_edge(node,node-1)\n",
    "elif k>2: #make sure graph is connected\n",
    "    print(nx.isolates(N),[len(ls) for ls in sorted(nx.connected_components(N), key = len, reverse=True)])\n",
    "print(len(N.edges())) #should be n/2 or n if k=1"
   ]
  },
  {
   "cell_type": "code",
   "execution_count": 6,
   "metadata": {},
   "outputs": [
    {
     "name": "stdout",
     "output_type": "stream",
     "text": [
      "<BNetwork(Name='', N=10, Nodes=[0, 1, 2, 3, 4, 5, 6, 7, 8, 9])>\n"
     ]
    }
   ],
   "source": [
    "#DEFINE MODEL\n",
    "p=0.5 #bias (i.e. global activation probability of a node)\n",
    "NB = convert_rnd(N,p) #creates a BooleanNetwork\n",
    "\n",
    "ds={node.name: LUT_reduce(look_up_table(node)) for node in NB.nodes} #reduces the lookup tables\n",
    "modules,translator={},{}\n",
    "sunits,sunit_map=get_sunits(NB) #finds all node states in the network\n",
    "print(NB)"
   ]
  },
  {
   "cell_type": "code",
   "execution_count": 7,
   "metadata": {},
   "outputs": [
    {
     "name": "stdout",
     "output_type": "stream",
     "text": [
      "seeds: 20\n",
      "--- Total time: 1.16400003433 seconds ---\n"
     ]
    }
   ],
   "source": [
    "#use the IBMFA to find influence pathways for all possible seeds (see code for explanation of various parameters)\n",
    "seed_size=1 #size of each seed set\n",
    "iterations=10 #how long to run the IBMFA for\n",
    "start_time = time.time()\n",
    "modules,translator=find_modules(NB,seed_size,sunits,sunit_map,modules,translator,reduced=True,ds=ds,p=0.5,\n",
    "        pinning={},iterations=iterations,data=True,pin_start=True,update='synchronous',regenerate=False,models=1,names='int')\n",
    "print(\"--- Total time: %s seconds ---\" % (time.time()-start_time))"
   ]
  },
  {
   "cell_type": "code",
   "execution_count": 8,
   "metadata": {},
   "outputs": [
    {
     "name": "stdout",
     "output_type": "stream",
     "text": [
      "total seeds:20\n",
      "--- Total time: 2.367000103 seconds ---\n"
     ]
    }
   ],
   "source": [
    "#find ground-truth simulations\n",
    "seeds=modules.keys() #dmodules.keys(), ['(67,)','(66,)'], ['(2, 66)','(3, 67)','(2, 67)'] (odd numbers are positive)\n",
    "iterations=10\n",
    "length=seed_size #seed set size\n",
    "runs=100 #number of simulations per seed set\n",
    "start_time = time.time()\n",
    "act_prob_sim,simulations=run_simulations(NB,seeds,N,sunit_map,translator,length=length,runs=runs,act_theta=0.5,iterations=iterations,\n",
    "    unknown_prob=0.5,results=True,input_type='pulse',pinned=\"seeds\",method='literal',act_prob_sim={},simulations={},names='int')\n",
    "print(\"--- Total time: %s seconds ---\" % (time.time()-start_time))"
   ]
  },
  {
   "cell_type": "code",
   "execution_count": 9,
   "metadata": {},
   "outputs": [
    {
     "name": "stdout",
     "output_type": "stream",
     "text": [
      "total seeds: 20\n",
      "true positives: [1.0, 1.0, 0.74, 0.6, 0.6, 0.65, 0.66, 0.66, 0.66, 0.66, 0.66]\n",
      "false negatives: [0.0, 0.0, 0.26, 0.4, 0.4, 0.35, 0.34, 0.34, 0.34, 0.34, 0.34]\n",
      "true negatives: [1.0, 1.0, 1.0, 1.0, 1.0, 1.0, 1.0, 1.0, 1.0, 1.0, 1.0]\n",
      "false positives: [0.0, 0.0, 0.0, 0.0, 0.0, 0.0, 0.0, 0.0, 0.0, 0.0, 0.0]\n",
      "accuracy: [1.0, 1.0, 0.87, 0.68, 0.62, 0.67, 0.67, 0.67, 0.67, 0.67, 0.67]\n",
      "recall: [1.0, 1.0, 0.74, 0.6, 0.6, 0.65, 0.66, 0.66, 0.66, 0.66, 0.66]\n",
      "precision: [1.0, 1.0, 1.0, 1.0, 1.0, 1.0, 1.0, 1.0, 1.0, 1.0, 1.0]\n",
      "average similarity: [1.0, 1.0, 0.0, 0.0, 0.0, 0.25, 0.25, 0.25, 0.25, 0.25, 0.25]\n",
      "errors: [0.002, 0.001, 0.007, 0.014, 0.01, 0.01, 0.007, 0.008, 0.006, 0.007, 0.005]\n"
     ]
    }
   ],
   "source": [
    "#check accuracy by comparing to simulations; NOTE: recall/precision based on constant predictions (i.e. s=0 or s=1)\n",
    "stats=compare_sim_to_modules(NB,seeds,modules,act_prob_sim,tau=0.0,iterations=10,stats={},results=True)"
   ]
  },
  {
   "cell_type": "code",
   "execution_count": 10,
   "metadata": {},
   "outputs": [
    {
     "name": "stdout",
     "output_type": "stream",
     "text": [
      "total seeds: 20\n",
      "true positives: [0.55, 0.64, 0.8, 0.94, 0.96, 0.97, 0.97, 0.97, 0.97, 0.97, 0.97]\n",
      "false negatives: [0.45, 0.36, 0.2, 0.06, 0.04, 0.03, 0.03, 0.03, 0.03, 0.03, 0.03]\n",
      "true negatives: [1.0, 1.0, 1.0, 1.0, 1.0, 1.0, 1.0, 1.0, 1.0, 1.0, 1.0]\n",
      "false positives: [0.0, 0.0, 0.0, 0.0, 0.0, 0.0, 0.0, 0.0, 0.0, 0.0, 0.0]\n",
      "accuracy: [0.55, 0.64, 0.8, 0.94, 0.96, 0.97, 0.97, 0.97, 0.97, 0.97, 0.97]\n",
      "recall: [0.55, 0.64, 0.8, 0.94, 0.96, 0.97, 0.97, 0.97, 0.97, 0.97, 0.97]\n",
      "precision: [1.0, 1.0, 1.0, 1.0, 1.0, 1.0, 1.0, 1.0, 1.0, 1.0, 1.0]\n",
      "average similarity: [0.0, 0.0, 0.05, 0.54, 0.72, 0.75, 0.76, 0.75, 0.76, 0.75, 0.76]\n",
      "errors: [0.448, 0.36, 0.202, 0.061, 0.036, 0.032, 0.032, 0.032, 0.032, 0.032, 0.032]\n",
      "--- Total time: 4.70799994469 seconds ---\n"
     ]
    }
   ],
   "source": [
    "#compare errors to a variance baseline\n",
    "start_time = time.time()\n",
    "length=1\n",
    "seeds=reduce_seeds(modules,sunit_map,translator,length=length,lrange=[])\n",
    "bstats=compare_baseline_RBNs(NB,seeds,simulations,tau=0.0,iterations=10,stats={},results=True,verbose=False)\n",
    "print(\"--- Total time: %s seconds ---\" % (time.time()-start_time))"
   ]
  },
  {
   "cell_type": "code",
   "execution_count": 11,
   "metadata": {},
   "outputs": [
    {
     "name": "stdout",
     "output_type": "stream",
     "text": [
      "(3,) 0.0 0.1524644695264647\n",
      "(10,) 0.0 0.1521868567825479\n",
      "(5,) 0.0 0.0\n",
      "(16,) 0.0 0.15266610451938173\n",
      "(7,) 0.0 0.0\n"
     ]
    }
   ],
   "source": [
    "#find all node entropies based on IBMFA and based on simulations\n",
    "seed_entropy,seed_configs=seed_entropies(modules,seeds,normalized=True,data=False)\n",
    "seed_entropy_sim,seed_configs_sim=seed_entropies(act_prob_sim,seeds,normalized=True,data=False)\n",
    "for seed in sorted(seed_entropy_sim,key=lambda x: seed_entropy_sim[x][iterations])[:5]: \n",
    "    print(seed),\n",
    "    print(seed_entropy_sim[seed][iterations]),\n",
    "    print(seed_entropy[seed][iterations]) #final entropy after T iterations"
   ]
  },
  {
   "cell_type": "code",
   "execution_count": 12,
   "metadata": {},
   "outputs": [
    {
     "data": {
      "text/plain": [
       "(5,)"
      ]
     },
     "execution_count": 12,
     "metadata": {},
     "output_type": "execute_result"
    }
   ],
   "source": [
    "#find minimum driver set to reach zero entropy\n",
    "driver_selection(NB,sunits,sunit_map,modules,translator,attractor=None,attractors=None,\n",
    "                iterations=iterations,t=iterations,update='synchronous',order=None,regenerate=False)"
   ]
  },
  {
   "cell_type": "code",
   "execution_count": 13,
   "metadata": {},
   "outputs": [
    {
     "name": "stdout",
     "output_type": "stream",
     "text": [
      "Running model 0\n",
      "Running model 1\n",
      "Running model 2\n",
      "Running model 3\n",
      "Running model 4\n",
      "Running model 5\n",
      "Running model 6\n",
      "Running model 7\n",
      "Running model 8\n",
      "Running model 9\n"
     ]
    }
   ],
   "source": [
    "#run several models of different k to determine errors statistically\n",
    "errors_by_k,baselines_by_k={},{}\n",
    "k=2\n",
    "t=10\n",
    "models=10\n",
    "n=100 #size of each network\n",
    "runs=100 #number of runs per model for simulations\n",
    "s=0 #average over all seed sets of size s\n",
    "errors_by_k[k]=[0.0 for i in range(t+1)]\n",
    "baselines_by_k[k]=[0.0 for i in range(t+1)]\n",
    "for m in range(models):\n",
    "    print('Running model '+str(m))\n",
    "    stats,bstats=RBN_mf_error(n=n,reduced=True,pinning={},tau=0.0,iterations=t,unknown_prob=0.5,s=s,seeds=None,\n",
    "        pin_start=True,k=k,p=0.5,samples=None,runs=runs,act_theta=0.5,method='literal',verbose=False)\n",
    "    for i in range(len(stats['errors'])): errors_by_k[k][i]+=stats['errors'][i]\n",
    "    for i in range(len(bstats['errors'])): baselines_by_k[k][i]+=bstats['errors'][i]\n",
    "errors_by_k[k]=[error/models for error in errors_by_k[k]]\n",
    "baselines_by_k[k]=[error/models for error in baselines_by_k[k]]"
   ]
  },
  {
   "cell_type": "code",
   "execution_count": 14,
   "metadata": {},
   "outputs": [
    {
     "name": "stdout",
     "output_type": "stream",
     "text": [
      "2\n",
      "[0.0024, 0.002, 0.0056, 0.0137, 0.0219, 0.0251, 0.0273, 0.0302, 0.0321, 0.0328, 0.0326]\n",
      "[0.4983, 0.4313, 0.3722, 0.3334, 0.2946, 0.2639, 0.2528, 0.2481, 0.2357, 0.2318, 0.2326]\n"
     ]
    }
   ],
   "source": [
    "#compare IBMFA to baseline variance\n",
    "for k in errors_by_k:\n",
    "    print(k)\n",
    "    print([round(error,4) for error in errors_by_k[k]])\n",
    "    print([round(error,4) for error in baselines_by_k[k]])"
   ]
  },
  {
   "cell_type": "code",
   "execution_count": 16,
   "metadata": {},
   "outputs": [
    {
     "name": "stdout",
     "output_type": "stream",
     "text": [
      "Running models for size n=10\n",
      "2.61290001869 2.1\n",
      "Running models for size n=20\n",
      "15.9427999973 3.7\n",
      "Running models for size n=30\n",
      "48.8392000198 4.9\n",
      "Running models for size n=40\n",
      "128.529599977 7.5\n",
      "Running models for size n=50\n",
      "239.027399993 8.9\n"
     ]
    }
   ],
   "source": [
    "#run over several biases for a fixed n and fixed k; NOTE: this may take a long time to run\n",
    "k=2.0\n",
    "sizes=[10,20,30,40,50]\n",
    "yvalues,times=[],[]\n",
    "for n in sizes:\n",
    "    print('Running models for size n='+str(n))\n",
    "    stats=RBN_driver_selections(N=[n],models=10,max_s=25,top=1,reduced=True,pinning={},tau=0.0,iterations=10,\n",
    "    unknown_prob=0.5,t=10,base=2,normalized=True,pin_start=True,force=True,k=k,p=0.5,dcm=False,stats={})\n",
    "    print(stats[n]['time']),\n",
    "    print(stats[n]['size'])\n",
    "    yvalues.append(stats[n]['size'])\n",
    "    times.append(stats[n]['time'])"
   ]
  },
  {
   "cell_type": "code",
   "execution_count": 17,
   "metadata": {},
   "outputs": [
    {
     "data": {
      "text/plain": [
       "(0, 0.5)"
      ]
     },
     "execution_count": 17,
     "metadata": {},
     "output_type": "execute_result"
    },
    {
     "data": {
      "image/png": "[encoded data removed]",
      "text/plain": [
       "<Figure size 432x288 with 1 Axes>"
      ]
     },
     "metadata": {
      "needs_background": "light"
     },
     "output_type": "display_data"
    }
   ],
   "source": [
    "#TODO: graph comparisons\n",
    "plt.plot(sizes,[yvalue/sizes[i] for i,yvalue in enumerate(yvalues)])\n",
    "plt.ylabel(\"Relative Size\",fontsize=16)\n",
    "plt.xlabel(\"Network Size\",fontsize=16)\n",
    "plt.xticks([10,20,30,40,50],[10,20,30,40,50],fontsize=14)\n",
    "plt.yticks(fontsize=14) #np.arange(0,1,.1)\n",
    "plt.xlim(10,50)\n",
    "plt.ylim([0,0.5])\n",
    "#plt.legend(fontsize=14)"
   ]
  },
  {
   "cell_type": "code",
   "execution_count": null,
   "metadata": {},
   "outputs": [],
   "source": []
  }
 ],
 "metadata": {
  "kernelspec": {
   "display_name": "Python 2",
   "language": "python",
   "name": "python2"
  },
  "language_info": {
   "codemirror_mode": {
    "name": "ipython",
    "version": 2
   },
   "file_extension": ".py",
   "mimetype": "text/x-python",
   "name": "python",
   "nbconvert_exporter": "python",
   "pygments_lexer": "ipython2",
   "version": "2.7.18"
  }
 },
 "nbformat": 4,
 "nbformat_minor": 2
}
